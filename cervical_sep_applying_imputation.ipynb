{
 "cells": [
  {
   "cell_type": "code",
   "execution_count": 20,
   "metadata": {},
   "outputs": [],
   "source": [
    "import numpy as np\n",
    "import pandas as pd\n",
    "import seaborn as sns\n",
    "import matplotlib.pyplot as plt\n",
    "from sklearn.preprocessing import LabelEncoder\n",
    "from sklearn import preprocessing\n",
    "from sklearn.preprocessing import MinMaxScaler \n",
    "from sklearn.model_selection import train_test_split\n",
    "from sklearn.metrics import r2_score, mean_squared_error\n",
    "from sklearn.metrics import confusion_matrix\n",
    "from sklearn.linear_model import LogisticRegression\n",
    "from sklearn import metrics\n",
    "from sklearn.pipeline import make_pipeline\n",
    "from sklearn.preprocessing import StandardScaler\n",
    "from sklearn import neighbors\n",
    "from sklearn.neighbors import KNeighborsClassifier\n",
    "from sklearn.naive_bayes import MultinomialNB \n",
    "from sklearn.metrics import classification_report\n",
    "from sklearn.linear_model import SGDClassifier\n",
    "from sklearn.svm import SVC\n",
    "from sklearn.tree import DecisionTreeClassifier, DecisionTreeRegressor \n",
    "#import shap\n",
    "from sklearn.ensemble import RandomForestClassifier\n",
    "from sklearn.ensemble import RandomForestRegressor\n",
    "import lime\n",
    "import lime.lime_tabular"
   ]
  },
  {
   "cell_type": "code",
   "execution_count": 27,
   "metadata": {},
   "outputs": [],
   "source": [
    "df = pd.read_csv('~/Desktop/junk 3/cervical/cervicaData.csv')\n",
    "df = df.replace('?', np.nan)\n",
    "df= df.loc[:,df.columns[df.isnull().sum() / df.shape[0] < 0.9 ]]\n",
    "sc= preprocessing.MinMaxScaler()\n",
    "df_scaled=sc.fit_transform(df)\n",
    "df= pd.DataFrame(df_scaled, columns=df.columns, index=df.index)"
   ]
  },
  {
   "cell_type": "code",
   "execution_count": 28,
   "metadata": {},
   "outputs": [],
   "source": [
    "x_features=list(df.columns)\n",
    "x_features.remove('Biopsy')\n",
    "x_features_categorical=['Numberofsexualpartners','Firstsexualintercourse','Numofpregnancies','Smokes','Smokesyears','Smokespacksyear','HormonalContraceptives','HormonalContraceptivesyears','IUD','IUDyears','STDs','STDsnumber','STDscondylomatosis','STDscervicalcondylomatosis','STDsvaginalcondylomatosis','STDsvulvoperinealcondylomatosis','STDssyphilis','STDspelvicinflammatorydisease','STDsgenitalherpes','STDsmolluscumcontagiosum','STDsAIDS','STDsHIV','STDsHepatitisB','STDsHPV']\n",
    "x_features_numerical=[i for i in x_features if i not in x_features_categorical]\n"
   ]
  },
  {
   "cell_type": "code",
   "execution_count": 29,
   "metadata": {
    "scrolled": false
   },
   "outputs": [
    {
     "name": "stdout",
     "output_type": "stream",
     "text": [
      "0      0.0\n",
      "1      0.0\n",
      "2      0.0\n",
      "3      0.0\n",
      "4      0.0\n",
      "      ... \n",
      "853    0.0\n",
      "854    0.0\n",
      "855    0.0\n",
      "856    0.0\n",
      "857    0.0\n",
      "Name: IUD, Length: 858, dtype: float64\n"
     ]
    },
    {
     "name": "stderr",
     "output_type": "stream",
     "text": [
      "<ipython-input-29-e27b7ef71f0a>:26: SettingWithCopyWarning: \n",
      "A value is trying to be set on a copy of a slice from a DataFrame.\n",
      "Try using .loc[row_indexer,col_indexer] = value instead\n",
      "\n",
      "See the caveats in the documentation: https://pandas.pydata.org/pandas-docs/stable/user_guide/indexing.html#returning-a-view-versus-a-copy\n",
      "  test_iud['IUD']=iud_model.predict(test_iud_x)\n"
     ]
    },
    {
     "data": {
      "text/plain": [
       "Age                                float64\n",
       "Numberofsexualpartners             float64\n",
       "Firstsexualintercourse             float64\n",
       "Numofpregnancies                   float64\n",
       "Smokes                             float64\n",
       "Smokesyears                        float64\n",
       "Smokespacksyear                    float64\n",
       "HormonalContraceptives             float64\n",
       "HormonalContraceptivesyears        float64\n",
       "IUD                                float64\n",
       "IUDyears                           float64\n",
       "STDs                               float64\n",
       "STDsnumber                         float64\n",
       "STDscondylomatosis                 float64\n",
       "STDscervicalcondylomatosis         float64\n",
       "STDsvaginalcondylomatosis          float64\n",
       "STDsvulvoperinealcondylomatosis    float64\n",
       "STDssyphilis                       float64\n",
       "STDspelvicinflammatorydisease      float64\n",
       "STDsgenitalherpes                  float64\n",
       "STDsmolluscumcontagiosum           float64\n",
       "STDsAIDS                           float64\n",
       "STDsHIV                            float64\n",
       "STDsHepatitisB                     float64\n",
       "STDsHPV                            float64\n",
       "STDsNumberofdiagnosis              float64\n",
       "DxCancer                           float64\n",
       "DxCIN                              float64\n",
       "DxHPV                              float64\n",
       "Dx                                 float64\n",
       "Hinselmann                         float64\n",
       "Schiller                           float64\n",
       "Citology                           float64\n",
       "Biopsy                             float64\n",
       "dtype: object"
      ]
     },
     "execution_count": 29,
     "metadata": {},
     "output_type": "execute_result"
    }
   ],
   "source": [
    "df_iud=df.copy()\n",
    "\n",
    "x_features_categorical.remove('IUD')\n",
    "for i in x_features_categorical:\n",
    "    df_iud[i]=df_iud[i].fillna(df_iud[i].mode()[0])\n",
    "    #print(df_iud[i].mode()[0])\n",
    "for i in x_features_numerical:\n",
    "    df_iud[i]=df_iud[i].fillna(df_iud[i].median())\n",
    "    \n",
    "df_iud=df_iud.astype('float')\n",
    "df_iud[x_features_categorical]=df_iud[x_features_categorical].replace(0,'no')\n",
    "df_iud[x_features_categorical]=df_iud[x_features_categorical].replace(1,'yes')\n",
    "df_iud=pd.get_dummies(df_iud)\n",
    "\n",
    "train_iud=df_iud[df_iud.IUD.isnull()==False]\n",
    "test_iud=df_iud[df_iud.IUD.isnull()]\n",
    "\n",
    "train_iud_x=train_iud.drop('IUD',axis=1)\n",
    "train_iud_y=train_iud['IUD']\n",
    "\n",
    "test_iud_x=test_iud.drop('IUD',axis=1)\n",
    "test_iud_y=test_iud['IUD']\n",
    "\n",
    "dt=DecisionTreeClassifier()\n",
    "iud_model=dt.fit(train_iud_x,train_iud_y)\n",
    "test_iud['IUD']=iud_model.predict(test_iud_x)\n",
    "\n",
    "iud_complete=pd.concat([train_iud,test_iud],axis=0)\n",
    "\n",
    "df_impute=df.copy()\n",
    "df_impute['IUD']=iud_complete['IUD'].sort_index()\n",
    "print(df_impute['IUD'])\n",
    "df_impute.dtypes"
   ]
  },
  {
   "cell_type": "code",
   "execution_count": 30,
   "metadata": {},
   "outputs": [
    {
     "ename": "ValueError",
     "evalue": "Input contains NaN, infinity or a value too large for dtype('float32').",
     "output_type": "error",
     "traceback": [
      "\u001b[1;31m---------------------------------------------------------------------------\u001b[0m",
      "\u001b[1;31mValueError\u001b[0m                                Traceback (most recent call last)",
      "\u001b[1;32m<ipython-input-30-79c3f98dec16>\u001b[0m in \u001b[0;36m<module>\u001b[1;34m\u001b[0m\n\u001b[0;32m     24\u001b[0m \u001b[0mdt\u001b[0m\u001b[1;33m=\u001b[0m\u001b[0mDecisionTreeRegressor\u001b[0m\u001b[1;33m(\u001b[0m\u001b[1;33m)\u001b[0m\u001b[1;33m\u001b[0m\u001b[1;33m\u001b[0m\u001b[0m\n\u001b[0;32m     25\u001b[0m \u001b[0miud_model\u001b[0m\u001b[1;33m=\u001b[0m\u001b[0mdt\u001b[0m\u001b[1;33m.\u001b[0m\u001b[0mfit\u001b[0m\u001b[1;33m(\u001b[0m\u001b[0mtrain_iud_x\u001b[0m\u001b[1;33m,\u001b[0m\u001b[0mtrain_iud_y\u001b[0m\u001b[1;33m)\u001b[0m\u001b[1;33m\u001b[0m\u001b[1;33m\u001b[0m\u001b[0m\n\u001b[1;32m---> 26\u001b[1;33m \u001b[0mtest_iud\u001b[0m\u001b[1;33m[\u001b[0m\u001b[1;34m'IUDyears'\u001b[0m\u001b[1;33m]\u001b[0m\u001b[1;33m=\u001b[0m\u001b[0miud_model\u001b[0m\u001b[1;33m.\u001b[0m\u001b[0mpredict\u001b[0m\u001b[1;33m(\u001b[0m\u001b[0mtest_iud_x\u001b[0m\u001b[1;33m)\u001b[0m\u001b[1;33m\u001b[0m\u001b[1;33m\u001b[0m\u001b[0m\n\u001b[0m\u001b[0;32m     27\u001b[0m \u001b[1;33m\u001b[0m\u001b[0m\n\u001b[0;32m     28\u001b[0m \u001b[0miud_complete\u001b[0m\u001b[1;33m=\u001b[0m\u001b[0mpd\u001b[0m\u001b[1;33m.\u001b[0m\u001b[0mconcat\u001b[0m\u001b[1;33m(\u001b[0m\u001b[1;33m[\u001b[0m\u001b[0mtrain_iud\u001b[0m\u001b[1;33m,\u001b[0m\u001b[0mtest_iud\u001b[0m\u001b[1;33m]\u001b[0m\u001b[1;33m,\u001b[0m\u001b[0maxis\u001b[0m\u001b[1;33m=\u001b[0m\u001b[1;36m0\u001b[0m\u001b[1;33m)\u001b[0m\u001b[1;33m\u001b[0m\u001b[1;33m\u001b[0m\u001b[0m\n",
      "\u001b[1;32m~\\anaconda3\\lib\\site-packages\\sklearn\\tree\\_classes.py\u001b[0m in \u001b[0;36mpredict\u001b[1;34m(self, X, check_input)\u001b[0m\n\u001b[0;32m    425\u001b[0m         \"\"\"\n\u001b[0;32m    426\u001b[0m         \u001b[0mcheck_is_fitted\u001b[0m\u001b[1;33m(\u001b[0m\u001b[0mself\u001b[0m\u001b[1;33m)\u001b[0m\u001b[1;33m\u001b[0m\u001b[1;33m\u001b[0m\u001b[0m\n\u001b[1;32m--> 427\u001b[1;33m         \u001b[0mX\u001b[0m \u001b[1;33m=\u001b[0m \u001b[0mself\u001b[0m\u001b[1;33m.\u001b[0m\u001b[0m_validate_X_predict\u001b[0m\u001b[1;33m(\u001b[0m\u001b[0mX\u001b[0m\u001b[1;33m,\u001b[0m \u001b[0mcheck_input\u001b[0m\u001b[1;33m)\u001b[0m\u001b[1;33m\u001b[0m\u001b[1;33m\u001b[0m\u001b[0m\n\u001b[0m\u001b[0;32m    428\u001b[0m         \u001b[0mproba\u001b[0m \u001b[1;33m=\u001b[0m \u001b[0mself\u001b[0m\u001b[1;33m.\u001b[0m\u001b[0mtree_\u001b[0m\u001b[1;33m.\u001b[0m\u001b[0mpredict\u001b[0m\u001b[1;33m(\u001b[0m\u001b[0mX\u001b[0m\u001b[1;33m)\u001b[0m\u001b[1;33m\u001b[0m\u001b[1;33m\u001b[0m\u001b[0m\n\u001b[0;32m    429\u001b[0m         \u001b[0mn_samples\u001b[0m \u001b[1;33m=\u001b[0m \u001b[0mX\u001b[0m\u001b[1;33m.\u001b[0m\u001b[0mshape\u001b[0m\u001b[1;33m[\u001b[0m\u001b[1;36m0\u001b[0m\u001b[1;33m]\u001b[0m\u001b[1;33m\u001b[0m\u001b[1;33m\u001b[0m\u001b[0m\n",
      "\u001b[1;32m~\\anaconda3\\lib\\site-packages\\sklearn\\tree\\_classes.py\u001b[0m in \u001b[0;36m_validate_X_predict\u001b[1;34m(self, X, check_input)\u001b[0m\n\u001b[0;32m    386\u001b[0m         \u001b[1;34m\"\"\"Validate X whenever one tries to predict, apply, predict_proba\"\"\"\u001b[0m\u001b[1;33m\u001b[0m\u001b[1;33m\u001b[0m\u001b[0m\n\u001b[0;32m    387\u001b[0m         \u001b[1;32mif\u001b[0m \u001b[0mcheck_input\u001b[0m\u001b[1;33m:\u001b[0m\u001b[1;33m\u001b[0m\u001b[1;33m\u001b[0m\u001b[0m\n\u001b[1;32m--> 388\u001b[1;33m             \u001b[0mX\u001b[0m \u001b[1;33m=\u001b[0m \u001b[0mcheck_array\u001b[0m\u001b[1;33m(\u001b[0m\u001b[0mX\u001b[0m\u001b[1;33m,\u001b[0m \u001b[0mdtype\u001b[0m\u001b[1;33m=\u001b[0m\u001b[0mDTYPE\u001b[0m\u001b[1;33m,\u001b[0m \u001b[0maccept_sparse\u001b[0m\u001b[1;33m=\u001b[0m\u001b[1;34m\"csr\"\u001b[0m\u001b[1;33m)\u001b[0m\u001b[1;33m\u001b[0m\u001b[1;33m\u001b[0m\u001b[0m\n\u001b[0m\u001b[0;32m    389\u001b[0m             if issparse(X) and (X.indices.dtype != np.intc or\n\u001b[0;32m    390\u001b[0m                                 X.indptr.dtype != np.intc):\n",
      "\u001b[1;32m~\\anaconda3\\lib\\site-packages\\sklearn\\utils\\validation.py\u001b[0m in \u001b[0;36minner_f\u001b[1;34m(*args, **kwargs)\u001b[0m\n\u001b[0;32m     70\u001b[0m                           FutureWarning)\n\u001b[0;32m     71\u001b[0m         \u001b[0mkwargs\u001b[0m\u001b[1;33m.\u001b[0m\u001b[0mupdate\u001b[0m\u001b[1;33m(\u001b[0m\u001b[1;33m{\u001b[0m\u001b[0mk\u001b[0m\u001b[1;33m:\u001b[0m \u001b[0marg\u001b[0m \u001b[1;32mfor\u001b[0m \u001b[0mk\u001b[0m\u001b[1;33m,\u001b[0m \u001b[0marg\u001b[0m \u001b[1;32min\u001b[0m \u001b[0mzip\u001b[0m\u001b[1;33m(\u001b[0m\u001b[0msig\u001b[0m\u001b[1;33m.\u001b[0m\u001b[0mparameters\u001b[0m\u001b[1;33m,\u001b[0m \u001b[0margs\u001b[0m\u001b[1;33m)\u001b[0m\u001b[1;33m}\u001b[0m\u001b[1;33m)\u001b[0m\u001b[1;33m\u001b[0m\u001b[1;33m\u001b[0m\u001b[0m\n\u001b[1;32m---> 72\u001b[1;33m         \u001b[1;32mreturn\u001b[0m \u001b[0mf\u001b[0m\u001b[1;33m(\u001b[0m\u001b[1;33m**\u001b[0m\u001b[0mkwargs\u001b[0m\u001b[1;33m)\u001b[0m\u001b[1;33m\u001b[0m\u001b[1;33m\u001b[0m\u001b[0m\n\u001b[0m\u001b[0;32m     73\u001b[0m     \u001b[1;32mreturn\u001b[0m \u001b[0minner_f\u001b[0m\u001b[1;33m\u001b[0m\u001b[1;33m\u001b[0m\u001b[0m\n\u001b[0;32m     74\u001b[0m \u001b[1;33m\u001b[0m\u001b[0m\n",
      "\u001b[1;32m~\\anaconda3\\lib\\site-packages\\sklearn\\utils\\validation.py\u001b[0m in \u001b[0;36mcheck_array\u001b[1;34m(array, accept_sparse, accept_large_sparse, dtype, order, copy, force_all_finite, ensure_2d, allow_nd, ensure_min_samples, ensure_min_features, estimator)\u001b[0m\n\u001b[0;32m    642\u001b[0m \u001b[1;33m\u001b[0m\u001b[0m\n\u001b[0;32m    643\u001b[0m         \u001b[1;32mif\u001b[0m \u001b[0mforce_all_finite\u001b[0m\u001b[1;33m:\u001b[0m\u001b[1;33m\u001b[0m\u001b[1;33m\u001b[0m\u001b[0m\n\u001b[1;32m--> 644\u001b[1;33m             _assert_all_finite(array,\n\u001b[0m\u001b[0;32m    645\u001b[0m                                allow_nan=force_all_finite == 'allow-nan')\n\u001b[0;32m    646\u001b[0m \u001b[1;33m\u001b[0m\u001b[0m\n",
      "\u001b[1;32m~\\anaconda3\\lib\\site-packages\\sklearn\\utils\\validation.py\u001b[0m in \u001b[0;36m_assert_all_finite\u001b[1;34m(X, allow_nan, msg_dtype)\u001b[0m\n\u001b[0;32m     94\u001b[0m                 not allow_nan and not np.isfinite(X).all()):\n\u001b[0;32m     95\u001b[0m             \u001b[0mtype_err\u001b[0m \u001b[1;33m=\u001b[0m \u001b[1;34m'infinity'\u001b[0m \u001b[1;32mif\u001b[0m \u001b[0mallow_nan\u001b[0m \u001b[1;32melse\u001b[0m \u001b[1;34m'NaN, infinity'\u001b[0m\u001b[1;33m\u001b[0m\u001b[1;33m\u001b[0m\u001b[0m\n\u001b[1;32m---> 96\u001b[1;33m             raise ValueError(\n\u001b[0m\u001b[0;32m     97\u001b[0m                     \u001b[0mmsg_err\u001b[0m\u001b[1;33m.\u001b[0m\u001b[0mformat\u001b[0m\u001b[1;33m\u001b[0m\u001b[1;33m\u001b[0m\u001b[0m\n\u001b[0;32m     98\u001b[0m                     (type_err,\n",
      "\u001b[1;31mValueError\u001b[0m: Input contains NaN, infinity or a value too large for dtype('float32')."
     ]
    }
   ],
   "source": [
    "df_iud=df.copy()\n",
    "\n",
    "x_features_categorical.remove('IUDyears')\n",
    "for i in x_features_categorical:\n",
    "    df_iud[i]=df_iud[i].fillna(df_iud[i].mode()[0])\n",
    "    #print(df_iud[i].mode()[0])\n",
    "for i in x_features_numerical:\n",
    "    df_iud[i]=df_iud[i].fillna(df_iud[i].median())\n",
    "    \n",
    "df_iud=df_iud.astype('float')\n",
    "df_iud[x_features_categorical]=df_iud[x_features_categorical].replace(0,'no')\n",
    "df_iud[x_features_categorical]=df_iud[x_features_categorical].replace(1,'yes')\n",
    "df_iud=pd.get_dummies(df_iud)\n",
    "\n",
    "train_iud=df_iud[df_iud.IUDyears.isnull()==False]\n",
    "test_iud=df_iud[df_iud.IUDyears.isnull()]\n",
    "\n",
    "train_iud_x=train_iud.drop('IUDyears',axis=1)\n",
    "train_iud_y=train_iud['IUDyears']\n",
    "\n",
    "test_iud_x=test_iud.drop('IUDyears',axis=1)\n",
    "test_iud_y=test_iud['IUDyears']\n",
    "\n",
    "dt=DecisionTreeRegressor()\n",
    "iud_model=dt.fit(train_iud_x,train_iud_y)\n",
    "test_iud['IUDyears']=iud_model.predict(test_iud_x)\n",
    "\n",
    "iud_complete=pd.concat([train_iud,test_iud],axis=0)\n",
    "\n",
    "df_impute=df.copy()\n",
    "df_impute['IUDyears']=iud_complete['IUDyears'].sort_index()\n",
    "print(df_impute['IUDyears'])\n",
    "df_impute.dtypes"
   ]
  },
  {
   "cell_type": "code",
   "execution_count": null,
   "metadata": {},
   "outputs": [],
   "source": [
    "x_features=list(df.columns)\n",
    "x_features.remove('Biopsy')\n",
    "x_features_categorical=['Numberofsexualpartners','Firstsexualintercourse','Numofpregnancies','Smokes','Smokesyears','Smokespacksyear','HormonalContraceptives','HormonalContraceptivesyears','IUD','IUDyears','STDs','STDsnumber','STDscondylomatosis','STDscervicalcondylomatosis','STDsvaginalcondylomatosis','STDsvulvoperinealcondylomatosis','STDssyphilis','STDspelvicinflammatorydisease','STDsgenitalherpes','STDsmolluscumcontagiosum','STDsAIDS','STDsHIV','STDsHepatitisB','STDsHPV']\n",
    "x_features_numerical=[i for i in x_features if i not in x_features_categorical]\n"
   ]
  },
  {
   "cell_type": "code",
   "execution_count": null,
   "metadata": {},
   "outputs": [],
   "source": []
  },
  {
   "cell_type": "code",
   "execution_count": null,
   "metadata": {},
   "outputs": [],
   "source": []
  }
 ],
 "metadata": {
  "kernelspec": {
   "display_name": "Python 3",
   "language": "python",
   "name": "python3"
  },
  "language_info": {
   "codemirror_mode": {
    "name": "ipython",
    "version": 3
   },
   "file_extension": ".py",
   "mimetype": "text/x-python",
   "name": "python",
   "nbconvert_exporter": "python",
   "pygments_lexer": "ipython3",
   "version": "3.8.5"
  }
 },
 "nbformat": 4,
 "nbformat_minor": 4
}
